{
 "cells": [
  {
   "cell_type": "code",
   "execution_count": 3,
   "metadata": {},
   "outputs": [
    {
     "name": "stdout",
     "output_type": "stream",
     "text": [
      "defaultdict(<class 'list'>, {'Anne': ['Metallica', 'The_Doors', 'Black_Sabbath'], 'John': ['The_Beatles', 'The_Doors', 'Metallica', 'Pink_Floyd'], 'Kathy': ['U2', 'Guns_n_Roses', 'Led_Zeppelin'], 'Jamie': ['Radiohead'], 'Ashok': ['Guns_n_Roses', 'U2', 'Pink_Floyd', 'The_Doors'], 'Sara': ['Blink_182', 'Iron_Maiden', 'The_Doors']})\n"
     ]
    }
   ],
   "source": [
    "# Read the input from stdin, split the input lines, and then parse each line to populate the data structures.\n",
    "\n",
    "import sys\n",
    "import io\n",
    "from collections import defaultdict\n",
    "\n",
    "def read_input():\n",
    "    input_data = sys.stdin.read().strip().split('\\n') \n",
    "    number_of_lines = int(input_data[0].strip()) # extract the number of lines in the input_data\n",
    "    colleague_bands = defaultdict(list) # to simplify the process of adding bands to each colleague without having to check if the key (colleague's name) already exists in the dictionary\n",
    "    ''' \n",
    "    If we were using a standard dictionary (dict), we would have to check if the key exists before appending to the list:\n",
    "    colleague_bands = {}\n",
    "    for name, bands in input_data:\n",
    "        if name not in colleague_bands:\n",
    "            colleague_bands[name] = []\n",
    "        colleague_bands[name].append(bands)\n",
    "    '''\n",
    "\n",
    "    for line in input_data[1:number_of_lines + 1]: # Iterate over each line in the input data that contains colleague and band information. \n",
    "        name, bands = line.split(':')\n",
    "        bands_list = [band.strip() for band in bands.split(',')]\n",
    "        colleague_bands[name.strip()] = bands_list\n",
    "\n",
    "    return colleague_bands\n",
    "\n",
    "# Test with smaller input\n",
    "test_input = \"6\\nAnne: Metallica, The_Doors, Black_Sabbath \\n John: The_Beatles, The_Doors, Metallica, Pink_Floyd \\n Kathy: U2, Guns_n_Roses, Led_Zeppelin \\n Jamie: Radiohead \\n Ashok: Guns_n_Roses, U2, Pink_Floyd, The_Doors \\n Sara: Blink_182, Iron_Maiden, The_Doors\"\n",
    "sys.stdin = io.StringIO(test_input) # sys.stdin has been redirected to read from a StringIO object in this case\n",
    "\n",
    "colleague_bands = read_input() \n",
    "print(colleague_bands)"
   ]
  },
  {
   "cell_type": "code",
   "execution_count": 5,
   "metadata": {},
   "outputs": [],
   "source": [
    "# Use a dictionary to count how many times each band is liked.\n",
    "\n",
    "band_count = defaultdict(int)\n",
    "\n",
    "for bands in colleague_bands.values():\n",
    "    for band in bands:\n",
    "        band_count[band] += 1"
   ]
  },
  {
   "cell_type": "code",
   "execution_count": 6,
   "metadata": {},
   "outputs": [],
   "source": [
    "# create a dictionary that maps each band to the list of colleagues who like it.\n",
    "\n",
    "band_map_colleagues = defaultdict(list)\n",
    "\n",
    "for colleague, bands in colleague_bands.items():\n",
    "    for band in bands:\n",
    "        band_map_colleagues[band].append(colleague)"
   ]
  },
  {
   "cell_type": "code",
   "execution_count": 7,
   "metadata": {},
   "outputs": [
    {
     "name": "stdout",
     "output_type": "stream",
     "text": [
      "Problem 1: Top 2 liked bands\n",
      "The_Doors\n",
      "Metallica\n",
      "Pink_Floyd\n",
      "U2\n",
      "Guns_n_Roses\n",
      "\n",
      "Problem 2: Band to colleagues mapping\n",
      "Black_Sabbath: Anne\n",
      "Blink_182: Sara\n",
      "Guns_n_Roses: Kathy, Ashok\n",
      "Iron_Maiden: Sara\n",
      "Led_Zeppelin: Kathy\n",
      "Metallica: Anne, John\n",
      "Pink_Floyd: John, Ashok\n",
      "Radiohead: Jamie\n",
      "The_Beatles: John\n",
      "The_Doors: Anne, John, Ashok, Sara\n",
      "U2: Kathy, Ashok\n"
     ]
    }
   ],
   "source": [
    "\n",
    "# Sort the bands by their popularity to find the top 2 liked bands and handle ties. \n",
    "def get_top_bands(band_count, top_n=2):\n",
    "    sorted_bands = sorted(band_count.items(), key=lambda x: x[1], reverse=True)\n",
    "    top_bands = []\n",
    "    current_top_count = sorted_bands[0][1]\n",
    "    for band, count in sorted_bands:\n",
    "        if count < current_top_count and len(top_bands) >= top_n:\n",
    "            break\n",
    "        top_bands.append(band)\n",
    "        current_top_count = count\n",
    "    return top_bands\n",
    "\n",
    "top_bands = get_top_bands(band_count)\n",
    "\n",
    "print(\"Problem 1: Top 2 liked bands\")\n",
    "for band in top_bands:\n",
    "    print(band)\n",
    "\n",
    "print(\"\\nProblem 2: Band to colleagues mapping\")\n",
    "for band in sorted(band_map_colleagues):\n",
    "    print(f\"{band}: {', '.join(band_map_colleagues[band])}\")"
   ]
  },
  {
   "cell_type": "code",
   "execution_count": null,
   "metadata": {},
   "outputs": [],
   "source": []
  }
 ],
 "metadata": {
  "kernelspec": {
   "display_name": "pr_venv",
   "language": "python",
   "name": "python3"
  },
  "language_info": {
   "codemirror_mode": {
    "name": "ipython",
    "version": 3
   },
   "file_extension": ".py",
   "mimetype": "text/x-python",
   "name": "python",
   "nbconvert_exporter": "python",
   "pygments_lexer": "ipython3",
   "version": "3.10.7"
  }
 },
 "nbformat": 4,
 "nbformat_minor": 2
}
